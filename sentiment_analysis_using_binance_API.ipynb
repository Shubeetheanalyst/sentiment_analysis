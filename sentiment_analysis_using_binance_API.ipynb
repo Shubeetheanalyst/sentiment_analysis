{
 "cells": [
  {
   "cell_type": "code",
   "execution_count": null,
   "id": "4c83f5fb",
   "metadata": {},
   "outputs": [],
   "source": [
    "import http.client\n",
    "import json\n",
    "import pandas as pd\n",
    "from textblob import TextBlob\n",
    "import smtplib\n",
    "from email.mime.text import MIMEText\n",
    "from email.mime.multipart import MIMEMultipart\n",
    "from email.mime.application import MIMEApplication\n",
    "import time\n",
    "from nltk.sentiment.vader import SentimentIntensityAnalyzer\n",
    "import nltk\n",
    "from nltk.sentiment import SentimentIntensityAnalyzer\n",
    "# import nltk\n",
    "# nltk.download('vader_lexicon')"
   ]
  },
  {
   "cell_type": "code",
   "execution_count": null,
   "id": "2236dae9",
   "metadata": {},
   "outputs": [],
   "source": [
    "# Set up the email parameters\n",
    "sender_email = \"testingforcode71@gmail.com\"\n",
    "receiver_email = \"hafizsohaib478@gmail.com\"\n",
    "password = \"nxol npsi xhux uvxq\""
   ]
  },
  {
   "cell_type": "code",
   "execution_count": null,
   "id": "a6009fb3",
   "metadata": {},
   "outputs": [],
   "source": [
    "import http.client\n",
    "\n",
    "conn = http.client.HTTPSConnection(\"binance43.p.rapidapi.com\")\n",
    "\n",
    "headers = {\n",
    "    'X-RapidAPI-Key': \"179e70124cmshb48789d174bbdc5p10d41ajsn01d52af663e7\",\n",
    "    'X-RapidAPI-Host': \"binance43.p.rapidapi.com\"\n",
    "    }\n",
    "\n",
    "conn.request(\"GET\", \"/ticker/24hr\", headers=headers)\n",
    "\n",
    "res = conn.getresponse()\n",
    "data = res.read()\n",
    "\n",
    "print(data.decode(\"ISO-8859-1\"))"
   ]
  },
  {
   "cell_type": "code",
   "execution_count": null,
   "id": "cf4855f8",
   "metadata": {},
   "outputs": [],
   "source": [
    "# Set up the schedule for running the script every 15 minutes\n",
    "interval = 15 * 60  # 15 minutes in seconds"
   ]
  },
  {
   "cell_type": "code",
   "execution_count": null,
   "id": "081d43c0",
   "metadata": {},
   "outputs": [],
   "source": [
    "while True:\n",
    "    # Make the Binance API request\n",
    "    conn = http.client.HTTPSConnection(\"binance43.p.rapidapi.com\")\n",
    "    conn.request(\"GET\", \"/ticker/24hr\", headers=headers)\n",
    "    res = conn.getresponse()\n",
    "    data = res.read().decode('ISO-8859-1')\n",
    "    \n",
    "    print(f\"data: {data}\")\n",
    "    print(f\"type of data: {type(data)}\")\n",
    "    \n",
    "\n",
    "    # Convert the response data to a dictionary\n",
    "    data_dict = json.loads(data)\n",
    "    # Convert the dictionary to a pandas DataFrame\n",
    "    df = pd.DataFrame.from_dict(data_dict)\n",
    "\n",
    "    print(df.head())  # print the first few rows of the DataFrame\n",
    "    \n",
    "    # Perform sentiment analysis on the data using TextBlob\n",
    "    sentiment = TextBlob(str(df)).sentiment\n",
    "    df['sentiment'] = df['symbol'].apply(lambda x: nltk_sentiment.polarity_scores(x)['compound'])\n",
    "    mean_sentiment = df['sentiment'].mean()\n",
    "    \n",
    "    # Set up the email message with the sentiment analysis results\n",
    "    message = MIMEMultipart()\n",
    "    message['From'] = sender_email\n",
    "    message['To'] = receiver_email\n",
    "    message['Subject'] = \"Binance API Sentiment Analysis\"\n",
    "    message.attach(MIMEText(f\"The sentiment of the Binance API data is: {sentiment}\"))\n",
    "    \n",
    "    # Attach the DataFrame as a CSV file to the email\n",
    "    csv_data = df.to_csv(index=False)\n",
    "    part = MIMEApplication(csv_data.encode('ISO-8859-1'))\n",
    "    part.add_header('Content-Disposition', 'attachment', filename='binance_data.csv')\n",
    "    message.attach(part)\n",
    "    \n",
    "    # Send the email\n",
    "    with smtplib.SMTP('smtp.gmail.com', 587) as smtp:\n",
    "        smtp.starttls()\n",
    "        smtp.login(sender_email, password)\n",
    "        smtp.sendmail(sender_email, receiver_email, message.as_string())\n",
    "        \n",
    "    # Wait for the specified interval before running the script again\n",
    "    time.sleep(interval)"
   ]
  }
 ],
 "metadata": {
  "kernelspec": {
   "display_name": "Python 3 (ipykernel)",
   "language": "python",
   "name": "python3"
  },
  "language_info": {
   "codemirror_mode": {
    "name": "ipython",
    "version": 3
   },
   "file_extension": ".py",
   "mimetype": "text/x-python",
   "name": "python",
   "nbconvert_exporter": "python",
   "pygments_lexer": "ipython3",
   "version": "3.9.13"
  }
 },
 "nbformat": 4,
 "nbformat_minor": 5
}
